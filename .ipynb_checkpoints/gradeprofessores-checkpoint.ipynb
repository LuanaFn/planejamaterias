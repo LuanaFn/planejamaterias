{
 "cells": [
  {
   "cell_type": "markdown",
   "metadata": {},
   "source": [
    "# Montador de Grade de Matérias e Professores"
   ]
  },
  {
   "cell_type": "markdown",
   "metadata": {},
   "source": [
    "Proposta: notebook que utiliza algoritmos evolutivos para distribuir matérias entre professores seguindo os seguintes pré-requisitos:\n",
    "- Professores que vão dar cada matéria de acordo com o quanto eles querem dar"
   ]
  },
  {
   "cell_type": "markdown",
   "metadata": {},
   "source": [
    "As matérias serão um vetor de objetos do tipo Materia que será fornecido pelo usuário, inicialmente sem os professores setados.\n",
    "O algoritmo deve ser capaz de alocar os professores disponíveis nestas matérias cumprindo o requisito mínimo de que os horários das matérias para um mesmo professor não devem coincidir."
   ]
  },
  {
   "cell_type": "markdown",
   "metadata": {},
   "source": [
    "Faz as importações necessárias"
   ]
  },
  {
   "cell_type": "code",
   "execution_count": 1,
   "metadata": {},
   "outputs": [],
   "source": [
    "from random import randint # numeros aleatorios para gerar testes\n",
    "from tabulate import tabulate # criação de tabela para visualizar a grade no fim"
   ]
  },
  {
   "cell_type": "markdown",
   "metadata": {},
   "source": [
    "Declara a classe das matérias"
   ]
  },
  {
   "cell_type": "code",
   "execution_count": 2,
   "metadata": {},
   "outputs": [],
   "source": [
    "class Materia:\n",
    "    \"\"\"Uma classe de materias\"\"\""
   ]
  },
  {
   "cell_type": "markdown",
   "metadata": {},
   "source": [
    "Decide quem são os professores"
   ]
  },
  {
   "cell_type": "code",
   "execution_count": 3,
   "metadata": {},
   "outputs": [],
   "source": [
    "professores = {\n",
    "    0: \"NENHUM\",\n",
    "    1 : \"Emanuel\",\n",
    "    2: \"Thiago\",\n",
    "    3: \"Wallace\",\n",
    "    4: \"Afonso\",\n",
    "    5: \"Sabrina\",\n",
    "    6: \"Alan\",\n",
    "    7: \"Thomas\"\n",
    "}"
   ]
  },
  {
   "cell_type": "markdown",
   "metadata": {},
   "source": [
    "Decide quais são as matérias disponíveis para este quadrimestre"
   ]
  },
  {
   "cell_type": "code",
   "execution_count": 4,
   "metadata": {},
   "outputs": [],
   "source": [
    "materias = {\n",
    "    1: \"TG\",\n",
    "    2: \"SI\",\n",
    "    3: \"IA\",\n",
    "    4: \"AC\",\n",
    "    5: \"AA\",\n",
    "    6: \"PE\",\n",
    "    7: \"MD\",\n",
    "    8: \"CG\",\n",
    "    9: \"LB\",\n",
    "    10: \"SD\",\n",
    "    11: \"CD\",\n",
    "    12: \"POO\"\n",
    "}"
   ]
  },
  {
   "cell_type": "markdown",
   "metadata": {},
   "source": [
    "Decide quais são os horários disponíveis"
   ]
  },
  {
   "cell_type": "code",
   "execution_count": 5,
   "metadata": {},
   "outputs": [],
   "source": [
    "horarios = {\n",
    "    1: \"Segunda 8h-10h S 1\",\n",
    "    2: \"Segunda 10h-12h S 1\",\n",
    "    3: \"Segunda 14h-16h S 1\",\n",
    "    4: \"Segunda 16h-18h S 1\",\n",
    "    5: \"Segunda 19h-21h S 1\",\n",
    "    6: \"Segunda 21h-23h S 1\",\n",
    "    \n",
    "    7: \"Segunda 8h-10h S 2\",\n",
    "    8: \"Segunda 10h-12h S 2\",\n",
    "    9: \"Segunda 14h-16h S 2\",\n",
    "    10: \"Segunda 16h-18h S 2\",\n",
    "    11: \"Segunda 19h-21h S 2\",\n",
    "    12: \"Segunda 21h-23h S 2\",\n",
    "    \n",
    "    #------------------------------------------------\n",
    "    \n",
    "    13: \"Terça 8h-10h S 1\",\n",
    "    14: \"Terça 10h-12h S 1\",\n",
    "    15: \"Terça 14h-16h S 1\",\n",
    "    16: \"Terça 16h-18h S 1\",\n",
    "    17: \"Terça 19h-21h S 1\",\n",
    "    18: \"Terça 21h-23h S 1\",\n",
    "    \n",
    "    19: \"Terça 8h-10h S 2\",\n",
    "    20: \"Terça 10h-12h S 2\",\n",
    "    21: \"Terça 14h-16h S 2\",\n",
    "    22: \"Terça 16h-18h S 2\",\n",
    "    23: \"Terça 19h-21h S 2\",\n",
    "    24: \"Terça 21h-23h S 2\",\n",
    "    \n",
    "    #------------------------------------------------\n",
    "    \n",
    "    25: \"Quarta 8h-10h S 1\",\n",
    "    26: \"Quarta 10h-12h S 1\",\n",
    "    27: \"Quarta 14h-16h S 1\",\n",
    "    28: \"Quarta 16h-18h S 1\",\n",
    "    29: \"Quarta 19h-21h S 1\",\n",
    "    30: \"Quarta 21h-23h S 1\",\n",
    "    \n",
    "    31: \"Quarta 8h-10h S 2\",\n",
    "    32: \"Quarta 10h-12h S 2\",\n",
    "    33: \"Quarta 14h-16h S 2\",\n",
    "    34: \"Quarta 16h-18h S 2\",\n",
    "    35: \"Quarta 19h-21h S 2\",\n",
    "    36: \"Quarta 21h-23h S 2\",\n",
    "    \n",
    "    #------------------------------------------------\n",
    "    \n",
    "    37: \"Quinta 8h-10h S 1\",\n",
    "    38: \"Quinta 10h-12h S 1\",\n",
    "    39: \"Quinta 14h-16h S 1\",\n",
    "    40: \"Quinta 16h-18h S 1\",\n",
    "    41: \"Quinta 19h-21h S 1\",\n",
    "    42: \"Quinta 21h-23h S 1\",\n",
    "    \n",
    "    43: \"Quinta 8h-10h S 2\",\n",
    "    44: \"Quinta 10h-12h S 2\",\n",
    "    45: \"Quinta 14h-16h S 2\",\n",
    "    46: \"Quinta 16h-18h S 2\",\n",
    "    47: \"Quinta 19h-21h S 2\",\n",
    "    48: \"Quinta 21h-23h S 2\",\n",
    "    \n",
    "    #------------------------------------------------\n",
    "    \n",
    "    49: \"Sexta 8h-10h S 1\",\n",
    "    50: \"Sexta 10h-12h S 1\",\n",
    "    51: \"Sexta 14h-16h S 1\",\n",
    "    52: \"Sexta 16h-18h S 1\",\n",
    "    53: \"Sexta 19h-21h S 1\",\n",
    "    54: \"Sexta 21h-23h S 1\",\n",
    "    \n",
    "    55: \"Sexta 8h-10h S 2\",\n",
    "    56: \"Sexta 10h-12h S 2\",\n",
    "    57: \"Sexta 14h-16h S 2\",\n",
    "    58: \"Sexta 16h-18h S 2\",\n",
    "    59: \"Sexta 19h-21h S 2\",\n",
    "    60: \"Sexta 21h-23h S 2\",\n",
    "    \n",
    "    #------------------------------------------------\n",
    "    \n",
    "    61: \"Sabado 8h-10h S 1\",\n",
    "    62: \"Sabado 10h-12h S 1\",\n",
    "    63: \"Sabado 14h-16h S 1\",\n",
    "    64: \"Sabado 16h-18h S 1\",\n",
    "    65: \"Sabado 19h-21h S 1\",\n",
    "    66: \"Sabado 21h-23h S 1\",\n",
    "    \n",
    "    67: \"Sabado 8h-10h S 2\",\n",
    "    68: \"Sabado 10h-12h S 2\",\n",
    "    69: \"Sabado 14h-16h S 2\",\n",
    "    70: \"Sabado 16h-18h S 2\",\n",
    "    71: \"Sabado 19h-21h S 2\",\n",
    "    72: \"Sabado 21h-23h S 2\",\n",
    "    \n",
    "}"
   ]
  },
  {
   "cell_type": "markdown",
   "metadata": {},
   "source": [
    "Gera um input com uma grade aleatória, como se o usuário que tivesse escolhido"
   ]
  },
  {
   "cell_type": "code",
   "execution_count": 22,
   "metadata": {},
   "outputs": [],
   "source": [
    "grade = []\n",
    "\n",
    "# gera 30 matérias aleatórias\n",
    "for i in range(20):\n",
    "    \n",
    "    # instancia uma nova matéria\n",
    "    m = Materia()\n",
    "    \n",
    "    # da o código da materia\n",
    "    m.codigo = i\n",
    "    \n",
    "    # escolhe uma matéria aleatoriamente\n",
    "    m.materia = randint(1, len(materias))\n",
    "    \n",
    "    # inicialmente sem professor\n",
    "    m.professor = 0\n",
    "    \n",
    "    m.horarios = []\n",
    "    \n",
    "    # escolhe os horários que a matéria será ofertada aleatóriamente,\n",
    "    # com no mínimo 2 créditos e no máximo 6\n",
    "    for j in range(randint(2, 7)):\n",
    "        m.horarios.append(randint(1, len(horarios))) \n",
    "        \n",
    "    # exclui os duplicados\n",
    "    m.horarios = set(m.horarios)\n",
    "    \n",
    "    # adiciona a matéria gerada automaticamente ao vetor de matérias\n",
    "    grade.append(m)"
   ]
  },
  {
   "cell_type": "markdown",
   "metadata": {},
   "source": [
    "#### Função Fitness"
   ]
  },
  {
   "cell_type": "markdown",
   "metadata": {},
   "source": [
    "Declara função que calculará o fitness do horário escolhido"
   ]
  },
  {
   "cell_type": "code",
   "execution_count": 23,
   "metadata": {},
   "outputs": [],
   "source": [
    "# retorna sempre 1 até possuir implementação própria\n",
    "def fitness(grade):\n",
    "    return 1"
   ]
  },
  {
   "cell_type": "markdown",
   "metadata": {},
   "source": [
    "#### Função crossover"
   ]
  },
  {
   "cell_type": "markdown",
   "metadata": {},
   "source": [
    "Função que verifica se existe algum professor com horário inválido em uma grade e retorna o índice do primeiro erro encontrado"
   ]
  },
  {
   "cell_type": "code",
   "execution_count": 24,
   "metadata": {},
   "outputs": [],
   "source": [
    "def verificaGrade(grade):\n",
    "    \n",
    "    # cria uma matriz para verificar colisão de matérias [professor][horario]\n",
    "    matrizHorarios = [[]]\n",
    "    \n",
    "    # se ainda não tiver este índice, adiciona ele\n",
    "    while(len(matrizHorarios) <= len(professores)):\n",
    "        matrizHorarios.append([])\n",
    "     \n",
    "    for i in range(len(matrizHorarios)):\n",
    "        # se ainda não tiver este índice, adiciona ele\n",
    "        while(len(matrizHorarios[i]) <= len(horarios)):\n",
    "            matrizHorarios[i].append(0)\n",
    "\n",
    "    # verifica cada materia\n",
    "    for i in range(len(grade)):\n",
    "        \n",
    "        # verifica cada horario da materia\n",
    "        for h in grade[i].horarios:\n",
    "            \n",
    "            # verifica se colidiu\n",
    "            if(matrizHorarios[grade[i].professor][h] == 1):\n",
    "                \n",
    "                # retorna o índice da matéria que colidiu\n",
    "                return i\n",
    "            \n",
    "            # grava a colisão\n",
    "            matrizHorarios[grade[i].professor][h] = 1\n",
    "            \n",
    "    # se passar pelo algoritmo inteiro sem retornar, retorna -1\n",
    "    return -1"
   ]
  },
  {
   "cell_type": "markdown",
   "metadata": {},
   "source": [
    "Declara função que faz o crossover de 2 grades pai e mãe"
   ]
  },
  {
   "cell_type": "code",
   "execution_count": 25,
   "metadata": {},
   "outputs": [],
   "source": [
    "def crossover(pai, mae):\n",
    "    \n",
    "    # inicialmente o filho é exatamente igual ao pai\n",
    "    filho = pai\n",
    "    \n",
    "    # verifica quantas materias cada grade tem\n",
    "    tamanho = len(mae)\n",
    "    \n",
    "    # escolhe uma materia diferente para trocar de professores tamanho/2 vezes\n",
    "    for i in range(int(tamanho/2)):\n",
    "        \n",
    "        # escolhe indices aleatorios para copiar registros da mãe\n",
    "        intMae = randint(0,tamanho)\n",
    "        \n",
    "        # copia o professor da mãe\n",
    "        filho[i].professor = mae[i].professor\n",
    "        \n",
    "    # verifica se algum professor está com conflito de horarios\n",
    "    while(verificaGrade(filho) > -1):\n",
    "        i = verificaGrade(filho)\n",
    "        print(i)\n",
    "        \n",
    "        # vai trocando o professor até parar de dar conflito\n",
    "        filho[i].professor = randint(1, len(professores) - 1)\n",
    "    \n",
    "    return filho\n",
    "        "
   ]
  },
  {
   "cell_type": "markdown",
   "metadata": {},
   "source": [
    "#### Gerador da primeira geração"
   ]
  },
  {
   "cell_type": "code",
   "execution_count": 26,
   "metadata": {},
   "outputs": [],
   "source": [
    "# recebe a grade original informada pelo usuário, sem os professores setados\n",
    "def primeiraGeracao(grade):\n",
    "    \n",
    "    grades = []\n",
    "    \n",
    "    # gera 30 indivíduos por geração\n",
    "    for i in range(20):\n",
    "        gradei = grade\n",
    "        \n",
    "        # preenche professores para cada matéria\n",
    "        for i in range(len(grade)):\n",
    "\n",
    "            # escolhe um professor aleatóriamente\n",
    "            gradei[i].professor = randint(1, len(professores) - 1)\n",
    "            \n",
    "        # verificador que dira se entrou em looping infinito\n",
    "        verificador = 0    \n",
    "            \n",
    "        # verifica se algum professor está com conflito de horarios\n",
    "        while(verificaGrade(gradei) > -1):\n",
    "            i = verificaGrade(gradei)\n",
    "\n",
    "            # vai trocando o professor até parar de dar conflito\n",
    "            gradei[i].professor = randint(1, len(professores) - 1)\n",
    "            \n",
    "            verificador = verificador + 1\n",
    "            \n",
    "            if(verificador >= len(professores) * 5):\n",
    "                print(\"ATENÇÃO: Você não possui professores o suficiente para gerar esta grade.\")\n",
    "                return grades\n",
    "            \n",
    "        # adiciona a nova grade ao vetor da geração\n",
    "        grades.append(gradei)\n",
    "        \n",
    "    return grades"
   ]
  },
  {
   "cell_type": "markdown",
   "metadata": {},
   "source": [
    "#### Avança uma geração"
   ]
  },
  {
   "cell_type": "code",
   "execution_count": 27,
   "metadata": {},
   "outputs": [],
   "source": [
    "def avancaGeracao(grades):\n",
    "    novaGrade = []\n",
    "    fitnessList = []\n",
    "\n",
    "    # calcula o fitness de cada uma \n",
    "    for grade in grades:\n",
    "        \n",
    "        # calcula o fitness de cada grade\n",
    "        fitnessList.append(fitness(grade))\n",
    "        \n",
    "    # faz uma copia de fitnesslist apenas para consultar valores\n",
    "    fitnessListConsulta = fitnessList\n",
    "\n",
    "    # captura os n/2 melhores individuos\n",
    "    for i in range(int(len(grades)/2)):\n",
    "        \n",
    "        # captura os 2 maiores indices para serem pai e mãe\n",
    "        ipai = fitnessListConsulta.index(max(fitnessList))\n",
    "        fitnessList.pop(ipai)\n",
    "        \n",
    "        # se ainda houver, cria um novo item para ser a mãe\n",
    "        imae = fitnessListConsulta.index(max(fitnessList))\n",
    "        fitnessList.pop(imae)\n",
    "        \n",
    "        # se for o primeiro loop, só copia os pais pois estes sao os melhores da geração\n",
    "        if(i == 0):\n",
    "            novaGrade.append(grades[ipai])\n",
    "            novaGrade.append(grades[imae])\n",
    "            \n",
    "        # nos outros loops, apenas copia os filhos para as proximas gerações\n",
    "        else:\n",
    "\n",
    "            # gera 2 filhos deste casal\n",
    "            filho1 = crossover(grades[ipai], grades[imae])\n",
    "            filho2 = crossover(grades[ipai], grades[imae])\n",
    "\n",
    "            # insere os primeiros filhos\n",
    "            novaGrade.append(filho1)\n",
    "            novaGrade.append(filho2)\n",
    "            \n",
    "    return novaGrade"
   ]
  },
  {
   "cell_type": "markdown",
   "metadata": {},
   "source": [
    "#### Evolução de fato\n",
    "Metade dos melhores indivíduos da geração anterior devem agir como pais e mães para gerar os filhos da nova geração, contando com o elemento de mutação que no caso será o ajuste de colisão de matérias para um professor"
   ]
  },
  {
   "cell_type": "code",
   "execution_count": 28,
   "metadata": {},
   "outputs": [],
   "source": [
    "# gera a primeira geração de grades\n",
    "grades = primeiraGeracao(grade)\n",
    "\n",
    "# roda as gerações várias vezes\n",
    "for i in range(100):\n",
    "    \n",
    "    grades = avancaGeracao(grades)\n",
    "    \n",
    "fitnessList = []\n",
    "\n",
    "# calcula o fitness de cada uma \n",
    "for i in range(len(grades)):\n",
    "\n",
    "    # calcula o fitness de cada grade\n",
    "    fitnessList.append(fitness(grades[i]))\n",
    "    \n",
    "# a grade escolhida sera a com o melhor fitness\n",
    "grade = grades[fitnessList.index(max(fitnessList))]"
   ]
  },
  {
   "cell_type": "markdown",
   "metadata": {},
   "source": [
    "Exibe a grade final"
   ]
  },
  {
   "cell_type": "code",
   "execution_count": 29,
   "metadata": {
    "scrolled": true
   },
   "outputs": [
    {
     "name": "stdout",
     "output_type": "stream",
     "text": [
      "58 - tabela[1][4][5]\n",
      "27 - tabela[0][3][3]\n",
      "65 - tabela[0][5][6]\n",
      "43 - tabela[1][1][4]\n",
      "41 - tabela[0][5][4]\n",
      "3 - tabela[0][3][1]\n",
      "11 - tabela[1][5][1]\n",
      "15 - tabela[0][3][2]\n",
      "16 - tabela[0][4][2]\n",
      "30 - tabela[1][0][3]\n",
      "25 - tabela[0][1][2]\n",
      "42 - tabela[1][0][4]\n",
      "49 - tabela[0][1][4]\n",
      "50 - tabela[0][2][4]\n",
      "43 - tabela[1][1][4]\n",
      "6 - tabela[1][0][1]\n",
      "55 - tabela[1][1][5]\n",
      "52 - tabela[0][4][5]\n",
      "6 - tabela[1][0][1]\n",
      "31 - tabela[1][1][3]\n",
      "32 - tabela[1][2][3]\n",
      "19 - tabela[1][1][2]\n",
      "37 - tabela[0][1][3]\n",
      "2 - tabela[0][2][1]\n",
      "59 - tabela[1][5][5]\n",
      "6 - tabela[1][0][1]\n",
      "34 - tabela[1][4][3]\n",
      "58 - tabela[1][4][5]\n",
      "47 - tabela[1][5][4]\n",
      "20 - tabela[1][2][2]\n",
      "55 - tabela[1][1][5]\n",
      "27 - tabela[0][3][3]\n",
      "31 - tabela[1][1][3]\n",
      "10 - tabela[1][4][1]\n",
      "18 - tabela[1][0][2]\n",
      "44 - tabela[1][2][4]\n",
      "45 - tabela[1][3][4]\n",
      "66 - tabela[1][0][6]\n",
      "37 - tabela[0][1][3]\n",
      "44 - tabela[1][2][4]\n",
      "53 - tabela[0][5][5]\n",
      "55 - tabela[1][1][5]\n",
      "56 - tabela[1][2][5]\n",
      "36 - tabela[0][0][3]\n",
      "6 - tabela[1][0][1]\n",
      "24 - tabela[0][0][2]\n",
      "26 - tabela[0][2][3]\n",
      "63 - tabela[0][3][5]\n",
      "70 - tabela[1][4][6]\n",
      "43 - tabela[1][1][4]\n",
      "12 - tabela[0][0][1]\n",
      "45 - tabela[1][3][4]\n",
      "15 - tabela[0][3][2]\n",
      "29 - tabela[0][5][3]\n",
      "30 - tabela[1][0][3]\n",
      "43 - tabela[1][1][4]\n",
      "35 - tabela[1][5][3]\n",
      "65 - tabela[0][5][6]\n",
      "68 - tabela[1][2][6]\n",
      "28 - tabela[0][4][3]\n",
      "2 - tabela[0][2][1]\n",
      "35 - tabela[1][5][3]\n",
      "39 - tabela[0][3][4]\n",
      "40 - tabela[0][4][4]\n",
      "72 - tabela[0][0][6]\n",
      "48 - tabela[0][0][4]\n",
      "63 - tabela[0][3][5]\n",
      "37 - tabela[0][1][3]\n",
      "20 - tabela[1][2][2]\n",
      "29 - tabela[0][5][3]\n",
      "42 - tabela[1][0][4]\n",
      "4 - tabela[0][4][1]\n",
      "65 - tabela[0][5][6]\n",
      "68 - tabela[1][2][6]\n",
      "39 - tabela[0][3][4]\n",
      "44 - tabela[1][2][4]\n",
      "47 - tabela[1][5][4]\n"
     ]
    }
   ],
   "source": [
    "# tabela do semanal 1\n",
    "tabela1 = [\n",
    "    [\"08h-10h\", \"\", \"\", \"\", \"\", \"\", \"\"],\n",
    "    [\"10h-12h\", \"\", \"\", \"\", \"\", \"\", \"\"],\n",
    "    [\"14h-16h\", \"\", \"\", \"\", \"\", \"\", \"\"],\n",
    "    [\"16h-18h\", \"\", \"\", \"\", \"\", \"\", \"\"],\n",
    "    [\"19h-21h\", \"\", \"\", \"\", \"\", \"\", \"\"],\n",
    "    [\"21h-23h\", \"\", \"\", \"\", \"\", \"\", \"\"]\n",
    "]\n",
    "\n",
    "# tabela do semanal 2\n",
    "tabela2 = [\n",
    "    [\"08h-10h\", \"\", \"\", \"\", \"\", \"\", \"\"],\n",
    "    [\"10h-12h\", \"\", \"\", \"\", \"\", \"\", \"\"],\n",
    "    [\"14h-16h\", \"\", \"\", \"\", \"\", \"\", \"\"],\n",
    "    [\"16h-18h\", \"\", \"\", \"\", \"\", \"\", \"\"],\n",
    "    [\"19h-21h\", \"\", \"\", \"\", \"\", \"\", \"\"],\n",
    "    [\"21h-23h\", \"\", \"\", \"\", \"\", \"\", \"\"]\n",
    "]\n",
    "\n",
    "tabela = [tabela1, tabela2]\n",
    "\n",
    "# percorre as matérias e vai adicionando nas tabelas\n",
    "for m in grade:\n",
    "    #print(\"\\nMatéria \" + materias[m.materia])\n",
    "    \n",
    "    # percorre cada horário da grade\n",
    "    for h in m.horarios:\n",
    "        #print(\"Horário \" + horarios[h])\n",
    "        \n",
    "        texto = \"\\n \"  + str(m.codigo) + \" \" + materias[m.materia] + \"\\n\" + professores[m.professor] + \"\\n\"\n",
    "        \n",
    "        #for i in range(68):\n",
    "        print(str(h) +\" - tabela[\"+ str(int(int(h/6) % 2)) +\"][\" + str(h % 6) + \"][\" + str(int(h/13) + 1) + \"]\")\n",
    "            \n",
    "        tabela[int(int(h/6) % 2)][h % 6][int(h/13) + 1] += texto"
   ]
  },
  {
   "cell_type": "markdown",
   "metadata": {},
   "source": [
    "Semanal 1"
   ]
  },
  {
   "cell_type": "code",
   "execution_count": 30,
   "metadata": {},
   "outputs": [
    {
     "name": "stdout",
     "output_type": "stream",
     "text": [
      "         Segunda    Terça    Quarta    Quinta    Sexta    Sábado\n",
      "-------  ---------  -------  --------  --------  -------  --------\n",
      "08h-10h  13 TG      12 PE    12 PE     16 SD              16 SD\n",
      "         Thiago     Afonso   Afonso    Emanuel            Emanuel\n",
      "10h-12h             3 AC     6 AC      3 AC\n",
      "                    Thomas   Sabrina   Thomas\n",
      "\n",
      "                              11 LB\n",
      "                             Alan\n",
      "\n",
      "                              17 AA\n",
      "                             Afonso\n",
      "14h-16h  7 AA                12 PE     4 POO\n",
      "         Thiago              Afonso    Wallace\n",
      "\n",
      "          16 SD\n",
      "         Emanuel\n",
      "16h-18h  2 MD       2 MD     0 MD      16 SD     12 PE\n",
      "         Wallace    Wallace  Sabrina   Emanuel   Afonso\n",
      "\n",
      "                     13 TG    9 PE      19 LB     16 SD\n",
      "                    Thiago   Emanuel   Thiago    Emanuel\n",
      "19h-21h  18 MD      2 MD     15 IA     16 SD     5 CG\n",
      "         Afonso     Wallace  Thomas    Emanuel   Sabrina\n",
      "21h-23h                      13 TG     1 LB      11 LB    1 LB\n",
      "                             Thiago    Emanuel   Alan     Emanuel\n",
      "\n",
      "                              17 AA                        15 IA\n",
      "                             Afonso                       Thomas\n",
      "\n",
      "                                                           19 LB\n",
      "                                                          Thiago\n"
     ]
    }
   ],
   "source": [
    "print(tabulate(tabela[0], headers=[\"\", \"Segunda\", \"Terça\", \"Quarta\", \"Quinta\", \"Sexta\", \"Sábado\"]))"
   ]
  },
  {
   "cell_type": "markdown",
   "metadata": {},
   "source": [
    "Semanal 2"
   ]
  },
  {
   "cell_type": "code",
   "execution_count": 31,
   "metadata": {},
   "outputs": [
    {
     "name": "stdout",
     "output_type": "stream",
     "text": [
      "         Segunda    Terça    Quarta    Quinta    Sexta    Sábado\n",
      "-------  ---------  -------  --------  --------  -------  --------\n",
      "08h-10h  4 POO      10 SD    2 MD      3 AC               11 LB\n",
      "         Wallace    Afonso   Wallace   Thomas             Alan\n",
      "\n",
      "          5 CG                13 TG     18 MD\n",
      "         Sabrina             Thiago    Afonso\n",
      "\n",
      "          7 AA\n",
      "         Thiago\n",
      "\n",
      "          12 PE\n",
      "         Afonso\n",
      "10h-12h             6 AC     5 CG      1 LB      4 POO\n",
      "                    Sabrina  Sabrina   Emanuel   Wallace\n",
      "\n",
      "                              9 PE      4 POO     9 PE\n",
      "                             Emanuel   Wallace   Emanuel\n",
      "\n",
      "                                        13 TG     11 LB\n",
      "                                       Thiago    Alan\n",
      "\n",
      "                                        14 SI\n",
      "                                       Thomas\n",
      "14h-16h             9 PE     6 AC      10 SD     12 PE    15 IA\n",
      "                    Emanuel  Sabrina   Afonso    Afonso   Thomas\n",
      "\n",
      "                     17 AA              11 LB              19 LB\n",
      "                    Afonso             Alan               Thiago\n",
      "\n",
      "                                        19 LB\n",
      "                                       Thiago\n",
      "16h-18h                                10 SD\n",
      "                                       Afonso\n",
      "\n",
      "                                        13 TG\n",
      "                                       Thiago\n",
      "19h-21h  10 SD               8 CD                0 MD     13 TG\n",
      "         Afonso              Emanuel             Sabrina  Thiago\n",
      "\n",
      "                                                  8 CD\n",
      "                                                 Emanuel\n",
      "21h-23h  2 MD                14 SI     9 PE      7 AA\n",
      "         Wallace             Thomas    Emanuel   Thiago\n",
      "\n",
      "                              16 SD     19 LB\n",
      "                             Emanuel   Thiago\n"
     ]
    }
   ],
   "source": [
    "print(tabulate(tabela[1], headers=[\"\", \"Segunda\", \"Terça\", \"Quarta\", \"Quinta\", \"Sexta\", \"Sábado\"]))"
   ]
  }
 ],
 "metadata": {
  "kernelspec": {
   "display_name": "Python 3",
   "language": "python",
   "name": "python3"
  },
  "language_info": {
   "codemirror_mode": {
    "name": "ipython",
    "version": 3
   },
   "file_extension": ".py",
   "mimetype": "text/x-python",
   "name": "python",
   "nbconvert_exporter": "python",
   "pygments_lexer": "ipython3",
   "version": "3.7.0"
  }
 },
 "nbformat": 4,
 "nbformat_minor": 2
}
